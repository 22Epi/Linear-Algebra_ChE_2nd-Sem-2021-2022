{
  "cells": [
    {
      "cell_type": "markdown",
      "metadata": {
        "id": "view-in-github",
        "colab_type": "text"
      },
      "source": [
        "<a href=\"https://colab.research.google.com/github/22Epi/Linear-Algebra_ChE_2nd-Sem-2021-2022/blob/main/Assignment1_Panganiban.ipynb\" target=\"_parent\"><img src=\"https://colab.research.google.com/assets/colab-badge.svg\" alt=\"Open In Colab\"/></a>"
      ]
    },
    {
      "cell_type": "markdown",
      "source": [
        "#Assigment1_PANGANIBAN"
      ],
      "metadata": {
        "id": "y0dsOr0Lzd1r"
      }
    },
    {
      "cell_type": "code",
      "source": [
        "w_pg, w_mg, w_fg= 0.3, 0.3, 0.4\n",
        "print(\"The weights of your semestral grade are:\\\n",
        "\\n\\t{:.2%} for Prelims\\\n",
        "\\n\\t{:.2%} for Midterms, and\\\n",
        "\\n\\t{:.2%} for Finals.\" .format(w_pg, w_mg, w_fg))"
      ],
      "metadata": {
        "colab": {
          "base_uri": "https://localhost:8080/"
        },
        "id": "bGNP4Xj0zaID",
        "outputId": "6331c6f3-ff1e-4333-82f7-a8841e915975"
      },
      "execution_count": 1,
      "outputs": [
        {
          "output_type": "stream",
          "name": "stdout",
          "text": [
            "The weights of your semestral grade are:\n",
            "\t30.00% for Prelims\n",
            "\t30.00% for Midterms, and\n",
            "\t40.00% for Finals.\n"
          ]
        }
      ]
    },
    {
      "cell_type": "code",
      "source": [
        "x = input(\"Input your name:\")\n",
        "x"
      ],
      "metadata": {
        "colab": {
          "base_uri": "https://localhost:8080/",
          "height": 54
        },
        "id": "7WOzrWY64__6",
        "outputId": "872562cd-812a-4355-8e74-87982665dab1"
      },
      "execution_count": 11,
      "outputs": [
        {
          "name": "stdout",
          "output_type": "stream",
          "text": [
            "Input your name:Epifanio III B. Panganiban\n"
          ]
        },
        {
          "output_type": "execute_result",
          "data": {
            "application/vnd.google.colaboratory.intrinsic+json": {
              "type": "string"
            },
            "text/plain": [
              "'Epifanio III B. Panganiban'"
            ]
          },
          "metadata": {},
          "execution_count": 11
        }
      ]
    },
    {
      "cell_type": "code",
      "source": [
        "name = input(\"Name:\")\n",
        "course= input(\"Course:\")\n",
        "pg = input(\"Enter Prelim Grade:\")\n",
        "mg = input(\"Enter Midterm Grade:\")\n",
        "fg = input(\"Enter Finals Grade:\")\n",
        "sem_grade = 90\n",
        "print(\"Hello! {}, your semestral grade is :{}\".format(name, sem_grade))"
      ],
      "metadata": {
        "colab": {
          "base_uri": "https://localhost:8080/"
        },
        "id": "RAy_LoULz92c",
        "outputId": "e1be6f9a-1565-48b2-bdce-0b594be575b0"
      },
      "execution_count": 12,
      "outputs": [
        {
          "output_type": "stream",
          "name": "stdout",
          "text": [
            "Name:Epifanio lll B. Panganiban\n",
            "Course:BS ChE\n",
            "Enter prelim grade:1\n",
            "Enter midterm grade:2\n",
            "Enter finals grade:3\n",
            "Hello! Epifanio lll B. Panganiban, your semestral grade is :90\n"
          ]
        }
      ]
    }
  ],
  "metadata": {
    "colab": {
      "collapsed_sections": [],
      "name": "Assignment1_Panganiban",
      "provenance": [],
      "include_colab_link": true
    },
    "kernelspec": {
      "display_name": "Python 3",
      "name": "python3"
    }
  },
  "nbformat": 4,
  "nbformat_minor": 0
}