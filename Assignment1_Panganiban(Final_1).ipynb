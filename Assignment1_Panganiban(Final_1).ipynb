{
  "cells": [
    {
      "cell_type": "markdown",
      "metadata": {
        "id": "view-in-github",
        "colab_type": "text"
      },
      "source": [
        "<a href=\"https://colab.research.google.com/github/22Epi/Linear-Algebra_ChE_2nd-Sem-2021-2022/blob/main/Assignment1_Panganiban(Final_1).ipynb\" target=\"_parent\"><img src=\"https://colab.research.google.com/assets/colab-badge.svg\" alt=\"Open In Colab\"/></a>"
      ]
    },
    {
      "cell_type": "markdown",
      "source": [
        "#Assignment1_PANGANIBAN"
      ],
      "metadata": {
        "id": "y0dsOr0Lzd1r"
      }
    },
    {
      "cell_type": "code",
      "source": [
        "print(\"Grade Calculator\")\n",
        "name = input(\"\\nPlease Enter your Name:\")\n",
        "course_name = input(\"Name of your Course:\")\n",
        "prelim_grade = float(input(\"\\nPlease Enter your Prelim Grade:\"))*0.30\n",
        "midterm_grade = float(input(\"\\nPlease Enter your Midterm Grade:\"))*0.30\n",
        "final_grade = float(input(\"\\nPlease Enter your Final Grade:\"))*0.40\n",
        "\n",
        "\n",
        "sem_grade = (prelim_grade + midterm_grade + final_grade)\n",
        "\n",
        "if sem_grade > 70:\n",
        "  print(\"\\nHello! \" + name + \" of \" + course_name + \" your semestral grade is: \" + '%.2f' %sem_grade + \"\\U0001f600\")\n",
        "\n",
        "elif sem_grade == 70:\n",
        "  print(\"\\nHello! \" + name + \" of \" + course_name + \" your semestral grade is: \" + '%.2f' %sem_grade + \"\\U0001f606\")\n",
        "  \n",
        "else:\n",
        "  print(\"\\nHello! \" + name + \" of \" + course_name + \" your semestral grade is: \" + '%.2f' %sem_grade + \"\\U0001f62D\")"
      ],
      "metadata": {
        "id": "LaU2oGZzCu1k",
        "outputId": "fd45c31f-860e-4fe1-b4a8-1c05282d7248",
        "colab": {
          "base_uri": "https://localhost:8080/"
        }
      },
      "execution_count": 3,
      "outputs": [
        {
          "output_type": "stream",
          "name": "stdout",
          "text": [
            "Grade Calculator\n",
            "\n",
            "Please Enter your Name:Epifanio III B. Panganiban\n",
            "Name of your Course:BS Chemical Engineering\n",
            "\n",
            "Please Enter your Prelim Grade:97\n",
            "\n",
            "Please Enter your Midterm Grade:96\n",
            "\n",
            "Please Enter your Final Grade:95\n",
            "\n",
            "Hello! Epifanio III B. Panganiban of BS Chemical Engineering your semestral grade is: 95.90😀\n"
          ]
        }
      ]
    }
  ],
  "metadata": {
    "colab": {
      "collapsed_sections": [],
      "name": "Assignment1_Panganiban",
      "provenance": [],
      "include_colab_link": true
    },
    "kernelspec": {
      "display_name": "Python 3",
      "name": "python3"
    }
  },
  "nbformat": 4,
  "nbformat_minor": 0
}